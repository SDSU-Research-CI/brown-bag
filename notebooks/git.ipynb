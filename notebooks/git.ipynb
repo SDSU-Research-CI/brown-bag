{
 "cells": [
  {
   "cell_type": "markdown",
   "id": "818e3890-126c-43b1-9d7a-868242e42fec",
   "metadata": {},
   "source": [
    "# Git Source Control Management\n",
    "If you are not already familiar with it, [git](https://git-scm.com) is a distributed source control management system. It was originally developed by Linus Torvalds for managing contributions to the Linux kernel.\n",
    "\n",
    "Git is widely used for tracking changes to software.\n",
    "\n",
    "If you've been following along then you've already executed this command (if not, feel free to do so now):\n",
    "```shell\n",
    "$ git clone https://github.com/SDSU-Research-CI/ic-intro.git\n",
    "```\n",
    "\n",
    "This resulted in the git repository being copied to your home directory under the ic-intro directory. You can verify this using Jupyter Lab's file expolorer to the left:\n",
    "\n",
    "![Jupyter Lab directory structure containing the ic-intro directory](../images/git1.png)\n",
    "\n",
    "You can also verify this by executing the command in the following cell by selecting the cell and hitting shift + enter:"
   ]
  },
  {
   "cell_type": "code",
   "execution_count": 4,
   "id": "1fad981c-4715-4e85-a11e-f95d6f851e43",
   "metadata": {
    "tags": []
   },
   "outputs": [
    {
     "name": "stdout",
     "output_type": "stream",
     "text": [
      "examples  images  notebooks  README.md\n"
     ]
    }
   ],
   "source": [
    "!ls ~/ic-intro"
   ]
  },
  {
   "cell_type": "markdown",
   "id": "abbfbe9f-68bb-4d4b-8169-07fa2b03a62f",
   "metadata": {},
   "source": [
    "## Basic git Commands\n",
    "- git help -- Prints out help info for using git\n",
    "- git init -- Creates a new git repo\n",
    "- git status -- Shows the current status of the repo, such as files that have been changed\n",
    "- git log -- Shows a list of commits\n",
    "- git add -- Adds a file or changes to a file to the staging area\n",
    "- git commit -- Save changes to the repo\n",
    "\n",
    "Feel free to play around with some of these commands in the code cell below:"
   ]
  },
  {
   "cell_type": "code",
   "execution_count": 10,
   "id": "d60016ad-90c3-404c-85ac-0042a25fe105",
   "metadata": {
    "tags": []
   },
   "outputs": [
    {
     "name": "stdout",
     "output_type": "stream",
     "text": [
      "usage: git [--version] [--help] [-C <path>] [-c <name>=<value>]\n",
      "           [--exec-path[=<path>]] [--html-path] [--man-path] [--info-path]\n",
      "           [-p | --paginate | -P | --no-pager] [--no-replace-objects] [--bare]\n",
      "           [--git-dir=<path>] [--work-tree=<path>] [--namespace=<name>]\n",
      "           <command> [<args>]\n",
      "\n",
      "These are common Git commands used in various situations:\n",
      "\n",
      "start a working area (see also: git help tutorial)\n",
      "   clone             Clone a repository into a new directory\n",
      "   init              Create an empty Git repository or reinitialize an existing one\n",
      "\n",
      "work on the current change (see also: git help everyday)\n",
      "   add               Add file contents to the index\n",
      "   mv                Move or rename a file, a directory, or a symlink\n",
      "   restore           Restore working tree files\n",
      "   rm                Remove files from the working tree and from the index\n",
      "   sparse-checkout   Initialize and modify the sparse-checkout\n",
      "\n",
      "examine the history and state (see also: git help revisions)\n",
      "   bisect            Use binary search to find the commit that introduced a bug\n",
      "   diff              Show changes between commits, commit and working tree, etc\n",
      "   grep              Print lines matching a pattern\n",
      "   log               Show commit logs\n",
      "   show              Show various types of objects\n",
      "   status            Show the working tree status\n",
      "\n",
      "grow, mark and tweak your common history\n",
      "   branch            List, create, or delete branches\n",
      "   commit            Record changes to the repository\n",
      "   merge             Join two or more development histories together\n",
      "   rebase            Reapply commits on top of another base tip\n",
      "   reset             Reset current HEAD to the specified state\n",
      "   switch            Switch branches\n",
      "   tag               Create, list, delete or verify a tag object signed with GPG\n",
      "\n",
      "collaborate (see also: git help workflows)\n",
      "   fetch             Download objects and refs from another repository\n",
      "   pull              Fetch from and integrate with another repository or a local branch\n",
      "   push              Update remote refs along with associated objects\n",
      "\n",
      "'git help -a' and 'git help -g' list available subcommands and some\n",
      "concept guides. See 'git help <command>' or 'git help <concept>'\n",
      "to read about a specific subcommand or concept.\n",
      "See 'git help git' for an overview of the system.\n"
     ]
    }
   ],
   "source": [
    "!git help"
   ]
  },
  {
   "cell_type": "markdown",
   "id": "88f84a0c-d3e2-4401-96af-5f735428cf6c",
   "metadata": {},
   "source": [
    "# GitHub\n",
    "[GitHub](https://github.com) is a popular git repository hosting site that offers features and services centered around git. As of this writing, GitHub boasts 100 million+ users and 330 million+ git repositories.\n",
    "\n",
    "## GitHub for Campus\n",
    "[GitHub for Campus](https://education.github.com/schools) allows students, faculty and staff access to some GitHub services for free. Research and Cyberinfrastructure applied on behalf of San Diego State University, so if you have any interest in learning more, reach out to us! "
   ]
  }
 ],
 "metadata": {
  "kernelspec": {
   "display_name": "Python 3 (ipykernel)",
   "language": "python",
   "name": "python3"
  },
  "language_info": {
   "codemirror_mode": {
    "name": "ipython",
    "version": 3
   },
   "file_extension": ".py",
   "mimetype": "text/x-python",
   "name": "python",
   "nbconvert_exporter": "python",
   "pygments_lexer": "ipython3",
   "version": "3.10.9"
  }
 },
 "nbformat": 4,
 "nbformat_minor": 5
}
