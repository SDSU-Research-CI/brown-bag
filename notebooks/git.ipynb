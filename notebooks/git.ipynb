{
 "cells": [
  {
   "cell_type": "markdown",
   "id": "001577a3-f794-4f5a-8a70-faf92197968d",
   "metadata": {
    "tags": []
   },
   "source": [
    "# Git Source Control Management"
   ]
  },
  {
   "cell_type": "markdown",
   "id": "6578121b-9346-4939-87f1-324ba546600e",
   "metadata": {},
   "source": [
    "## 🎓 Learning Objectives\n",
    "After you complete this "
   ]
  },
  {
   "cell_type": "markdown",
   "id": "818e3890-126c-43b1-9d7a-868242e42fec",
   "metadata": {
    "tags": []
   },
   "source": [
    "If you are not already familiar with it, [git](https://git-scm.com) is a distributed source control management system. It was originally developed by Linus Torvalds for managing contributions to the Linux kernel.\n",
    "\n",
    "Git is a popular tool for tracking changes to software whether you're working on a project individually or as part of a team.\n",
    "\n",
    "If you've been following along then you've already executed this command (if not, feel free to do so now):\n",
    "```shell\n",
    "$ git clone https://github.com/SDSU-Research-CI/ic-intro.git\n",
    "```\n",
    "\n",
    "This resulted in the git repository being copied to your home directory under the ic-intro directory. You can verify this using Jupyter Lab's file expolorer to the left:\n",
    "\n",
    "![Jupyter Lab directory structure containing the ic-intro directory](../images/git1.png)\n",
    "\n",
    "You can also verify this by executing the command in the following cell by selecting the cell and hitting shift + enter:"
   ]
  },
  {
   "cell_type": "code",
   "execution_count": 1,
   "id": "1fad981c-4715-4e85-a11e-f95d6f851e43",
   "metadata": {
    "tags": []
   },
   "outputs": [
    {
     "name": "stdout",
     "output_type": "stream",
     "text": [
      "examples  images  notebooks  README.md\n"
     ]
    }
   ],
   "source": [
    "!ls ~/ic-intro"
   ]
  },
  {
   "cell_type": "markdown",
   "id": "abbfbe9f-68bb-4d4b-8169-07fa2b03a62f",
   "metadata": {
    "tags": []
   },
   "source": [
    "## Informational git Commands\n",
    "- git help -- Prints out help info for using git\n",
    "- git status -- Shows the current status of the repo, such as files that have been changed\n",
    "- git log -- Shows a list of commits with a brief message summarizing the changes in the commit\n",
    "\n",
    "Feel free to play around with some of these commands in the code cell below:"
   ]
  },
  {
   "cell_type": "code",
   "execution_count": 3,
   "id": "d60016ad-90c3-404c-85ac-0042a25fe105",
   "metadata": {
    "tags": []
   },
   "outputs": [
    {
     "name": "stdout",
     "output_type": "stream",
     "text": [
      "On branch main\n",
      "Your branch is up to date with 'origin/main'.\n",
      "\n",
      "Changes not staged for commit:\n",
      "  (use \"git add <file>...\" to update what will be committed)\n",
      "  (use \"git restore <file>...\" to discard changes in working directory)\n",
      "\t\u001b[31mmodified:   git.ipynb\u001b[m\n",
      "\n",
      "Untracked files:\n",
      "  (use \"git add <file>...\" to include in what will be committed)\n",
      "\t\u001b[31m../.ipynb_checkpoints/\u001b[m\n",
      "\n",
      "no changes added to commit (use \"git add\" and/or \"git commit -a\")\n"
     ]
    }
   ],
   "source": [
    "!git status"
   ]
  },
  {
   "cell_type": "markdown",
   "id": "eebd4a28-347a-41a3-921d-abc6cd2863fe",
   "metadata": {},
   "source": [
    "## Creating a New Git Repo\n",
    "The first step to creating a new git repo is creating a new directory and initializing a repository. Since we're already in a git repo, let's create a new directory under our home directory for our example repo:"
   ]
  },
  {
   "cell_type": "code",
   "execution_count": 19,
   "id": "0db60bb5-9f9f-4b18-9e40-d4dc75b90077",
   "metadata": {
    "tags": []
   },
   "outputs": [],
   "source": [
    "!mkdir /home/jovyan/example-dir"
   ]
  },
  {
   "cell_type": "markdown",
   "id": "5ac134d8-d9f8-4a7c-a834-45abc19e9f94",
   "metadata": {},
   "source": [
    "Next, lets create a new directory and then initialize a new repo with `git init`:"
   ]
  },
  {
   "cell_type": "code",
   "execution_count": 22,
   "id": "85af604c-9198-4b76-8806-27df202cd95d",
   "metadata": {
    "tags": []
   },
   "outputs": [
    {
     "name": "stdout",
     "output_type": "stream",
     "text": [
      "Initialized empty Git repository in /home/jovyan/example-dir/.git/\n"
     ]
    }
   ],
   "source": [
    "!cd /home/jovyan/example-dir && git init"
   ]
  },
  {
   "cell_type": "markdown",
   "id": "1cd056e4-1b74-44ca-a87f-1c491f6cc0bb",
   "metadata": {},
   "source": [
    "*Note*: When running terminal commands in a Jupyter Notebook the terminal returns to the directory of the current Jupyter Notebook after each command is executed.\n",
    "\n",
    "For example, this notebook is located at /home/jovyan/ic-intro/notebooks which can be verified with the following command:"
   ]
  },
  {
   "cell_type": "code",
   "execution_count": 31,
   "id": "28624401-cad6-4cd9-b365-b4803a7afad6",
   "metadata": {
    "tags": []
   },
   "outputs": [
    {
     "name": "stdout",
     "output_type": "stream",
     "text": [
      "/home/jovyan/ic-intro/notebooks\n"
     ]
    }
   ],
   "source": [
    "!pwd"
   ]
  },
  {
   "cell_type": "markdown",
   "id": "4864768a-1451-45e3-98e0-74afcd64b1f8",
   "metadata": {},
   "source": [
    "As a workaround, you can execute multiple commands joined with a double ampersand `&&`.\n",
    "\n",
    "For example, to execute a command in our example repo we can change to the directory as our first command, then join our second command with `&&`:"
   ]
  },
  {
   "cell_type": "code",
   "execution_count": 32,
   "id": "716fa6f3-60f8-4481-8526-09aa3498ccff",
   "metadata": {
    "tags": []
   },
   "outputs": [
    {
     "name": "stdout",
     "output_type": "stream",
     "text": [
      "/home/jovyan/example-dir\n"
     ]
    }
   ],
   "source": [
    "!cd /home/jovyan/example-dir/ && pwd"
   ]
  },
  {
   "cell_type": "markdown",
   "id": "cb210035-7b25-43ff-aef5-340ab5207fc0",
   "metadata": {},
   "source": [
    "This could get pretty tedious to do, so if you expect to be working in another directory it might be a better option to open a terminal directly. \n",
    "\n",
    "You can launch a new terminal by clicking the \"+\" button in the top left and then clicking the terminal icon from the launcher page."
   ]
  },
  {
   "cell_type": "markdown",
   "id": "bf333109-9afc-4b7e-a48e-ad0586d47df1",
   "metadata": {},
   "source": [
    "## Adding a File to be Tracked in Git\n",
    "Now that we have our repo initialized, we need a file to track changes to so lets create a short python program:"
   ]
  },
  {
   "cell_type": "code",
   "execution_count": 23,
   "id": "5d778ca6-9d83-461a-9492-235276cd6abb",
   "metadata": {
    "tags": []
   },
   "outputs": [],
   "source": [
    "!touch /home/jovyan/example-dir/hello.py\n",
    "!echo \"print('Hello Aztecs!')\" > /home/jovyan/example-dir/hello.py"
   ]
  },
  {
   "cell_type": "markdown",
   "id": "a2fcd288-f86c-462c-82fd-b6e5190dfaa9",
   "metadata": {},
   "source": [
    "Lets run `git status` to see the changes that git has noticed in our repo:"
   ]
  },
  {
   "cell_type": "code",
   "execution_count": 33,
   "id": "9fc04231-31c3-449e-b95f-345c4ffa38f6",
   "metadata": {
    "tags": []
   },
   "outputs": [
    {
     "name": "stdout",
     "output_type": "stream",
     "text": [
      "On branch master\n",
      "\n",
      "No commits yet\n",
      "\n",
      "Untracked files:\n",
      "  (use \"git add <file>...\" to include in what will be committed)\n",
      "\t\u001b[31mhello.py\u001b[m\n",
      "\n",
      "nothing added to commit but untracked files present (use \"git add\" to track)\n"
     ]
    }
   ],
   "source": [
    "!cd /home/jovyan/example-dir && git status"
   ]
  },
  {
   "cell_type": "markdown",
   "id": "e56225b5-9dd4-4e1d-80f0-bf5a30434c06",
   "metadata": {},
   "source": [
    "We can now have git track changes to our program by running `git add hello.py`:"
   ]
  },
  {
   "cell_type": "code",
   "execution_count": 34,
   "id": "4b0f5174-d65e-4291-b99e-e9cfaa91d139",
   "metadata": {
    "tags": []
   },
   "outputs": [],
   "source": [
    "!cd /home/jovyan/example-dir && git add hello.py"
   ]
  },
  {
   "cell_type": "markdown",
   "id": "20cf089f-9523-450f-8609-f1b560dfec26",
   "metadata": {},
   "source": [
    "Now if we make further changes to our python program git will be able to tell us what they were. Lets make a change to our python program to see how git detects changes to the file:"
   ]
  },
  {
   "cell_type": "code",
   "execution_count": 38,
   "id": "89a29814-4eb4-404a-939c-4802aa3280ed",
   "metadata": {
    "tags": []
   },
   "outputs": [],
   "source": [
    "!echo \"print('Find out more about RCI at it.sdsu.edu/research')\" >> /home/jovyan/example-dir/hello.py"
   ]
  },
  {
   "cell_type": "markdown",
   "id": "5c4846c9-3a9a-4e4f-b62c-db0f109181b6",
   "metadata": {},
   "source": [
    "Now we can run `git diff [filename]` to see the changes git detected:"
   ]
  },
  {
   "cell_type": "code",
   "execution_count": 41,
   "id": "36dd948d-a647-4cd2-a252-55b382b00559",
   "metadata": {
    "tags": []
   },
   "outputs": [
    {
     "name": "stdout",
     "output_type": "stream",
     "text": [
      "\u001b[1mdiff --git a/hello.py b/hello.py\u001b[m\n",
      "\u001b[1mindex 9017e73..a6d57a0 100644\u001b[m\n",
      "\u001b[1m--- a/hello.py\u001b[m\n",
      "\u001b[1m+++ b/hello.py\u001b[m\n",
      "\u001b[36m@@ -1 +1,2 @@\u001b[m\n",
      " print('Hello Aztecs!')\u001b[m\n",
      "\u001b[32m+\u001b[m\u001b[32mprint('Find out more about RCI at it.sdsu.edu/research')\u001b[m\n"
     ]
    }
   ],
   "source": [
    "!cd /home/jovyan/example-dir/ && git diff hello.py"
   ]
  },
  {
   "cell_type": "markdown",
   "id": "174d6d20-bb46-4898-b4c4-6381297b534f",
   "metadata": {},
   "source": [
    "We can see that git detected the addition of a new line at the end of our program.\n",
    "\n",
    "Let's add this change too, again we will be using `git add [filename]`:"
   ]
  },
  {
   "cell_type": "code",
   "execution_count": 42,
   "id": "fec8df98-f04f-4b21-9ddc-06077c4b0cea",
   "metadata": {
    "tags": []
   },
   "outputs": [],
   "source": [
    "!cd /home/jovyan/example-dir/ && git add hello.py"
   ]
  },
  {
   "cell_type": "markdown",
   "id": "39521dde-98ac-4349-a2f5-d748976d4f11",
   "metadata": {},
   "source": [
    "## Commiting Changes to a Git Repo\n",
    "Now that we've added our file we can run `git status` to check the state of the repo:"
   ]
  },
  {
   "cell_type": "code",
   "execution_count": 43,
   "id": "76ee3157-5012-4b18-a950-67859bcb7149",
   "metadata": {
    "tags": []
   },
   "outputs": [
    {
     "name": "stdout",
     "output_type": "stream",
     "text": [
      "On branch master\n",
      "\n",
      "No commits yet\n",
      "\n",
      "Changes to be committed:\n",
      "  (use \"git rm --cached <file>...\" to unstage)\n",
      "\t\u001b[32mnew file:   hello.py\u001b[m\n",
      "\n"
     ]
    }
   ],
   "source": [
    "!cd /home/jovyan/example-dir && git status"
   ]
  },
  {
   "cell_type": "markdown",
   "id": "8565df21-66cb-4c3a-b8a8-e9c542415d4b",
   "metadata": {},
   "source": [
    "We can see that we have changes to be committed. You can think of a commit like a save point in our code. We can continue making changes to the code and we can always come back to a specific commit.\n",
    "\n"
   ]
  },
  {
   "cell_type": "markdown",
   "id": "88f84a0c-d3e2-4401-96af-5f735428cf6c",
   "metadata": {
    "tags": []
   },
   "source": [
    "# GitHub\n",
    "Everything that we've done up to this point only exists in our Jupyter Notebooks. None of the changes you've made have been shared with anyone else or been stored anywhere else. This is where git repository hosting services come in such as [GitHub](https://github.com) which is a popular git repository hosting site that offers features and services centered around git. As of this writing, GitHub boasts 100 million+ users and 330 million+ git repositories.\n",
    "\n",
    "GitHub is a great place to publish and collaborate on your code, no matter your role. For instance:\n",
    "- Faculty can publish code examples and assignment templates for their classes\n",
    "- Students can collaborate on class projects with group members\n",
    "- Researchers can publish their code for others to validate\n",
    "- Staff can use it to share administrative scripts and programs\n",
    "\n",
    "## GitHub for Campus\n",
    "[GitHub for Campus](https://education.github.com/schools) allows students, faculty and staff access to many GitHub services for free.\n",
    "\n",
    "In addition to many of the common features, GitHub Education has services specifically designed for instruction, like the [GitHub Classroom](https://classroom.github.com/) offering that allows Faculty to create, assign and grade assignments for their classes.\n",
    "\n",
    "Research and Cyberinfrastructure applied on behalf of San Diego State University, so if you are interested in learning more, reach out to us at itd-research.ci@sdsu.edu!"
   ]
  },
  {
   "cell_type": "code",
   "execution_count": null,
   "id": "56dcec29-ee4e-4b57-bc7b-2cc16052c3df",
   "metadata": {},
   "outputs": [],
   "source": []
  }
 ],
 "metadata": {
  "kernelspec": {
   "display_name": "Python 3 (ipykernel)",
   "language": "python",
   "name": "python3"
  },
  "language_info": {
   "codemirror_mode": {
    "name": "ipython",
    "version": 3
   },
   "file_extension": ".py",
   "mimetype": "text/x-python",
   "name": "python",
   "nbconvert_exporter": "python",
   "pygments_lexer": "ipython3",
   "version": "3.10.9"
  }
 },
 "nbformat": 4,
 "nbformat_minor": 5
}
