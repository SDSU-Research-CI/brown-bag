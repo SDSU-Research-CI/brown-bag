{
 "cells": [
  {
   "cell_type": "markdown",
   "id": "818e3890-126c-43b1-9d7a-868242e42fec",
   "metadata": {},
   "source": [
    "# Git Source Control Management\n",
    "If you are not already familiar with it, [git](https://git-scm.com) is a distributed source control management system. It was originally developed by Linus Torvalds for managing contributions to the Linux kernel.\n",
    "\n",
    "Git is widely used for tracking changes to software."
   ]
  },
  {
   "cell_type": "markdown",
   "id": "88f84a0c-d3e2-4401-96af-5f735428cf6c",
   "metadata": {},
   "source": [
    "# GitHub\n",
    "[GitHub](https://github.com) is a popular git repository hosting site that offers features and services centered around git. As of this writing, GitHub boasts 100 million+ users and 330 million+ git repositories.\n",
    "\n",
    "## GitHub for Campus\n",
    "[GitHub for Campus](https://education.github.com/schools) allows students, faculty and staff access to some GitHub services for free. Research and Cyberinfrastructure applied on behalf of San Diego State University, so if you have any interest in learning more, reach out to us! "
   ]
  },
  {
   "cell_type": "code",
   "execution_count": null,
   "id": "ea6b5393-e1e0-4d71-ac4b-da1e08ae1af4",
   "metadata": {},
   "outputs": [],
   "source": []
  }
 ],
 "metadata": {
  "kernelspec": {
   "display_name": "Python 3 (ipykernel)",
   "language": "python",
   "name": "python3"
  },
  "language_info": {
   "codemirror_mode": {
    "name": "ipython",
    "version": 3
   },
   "file_extension": ".py",
   "mimetype": "text/x-python",
   "name": "python",
   "nbconvert_exporter": "python",
   "pygments_lexer": "ipython3",
   "version": "3.10.9"
  }
 },
 "nbformat": 4,
 "nbformat_minor": 5
}
