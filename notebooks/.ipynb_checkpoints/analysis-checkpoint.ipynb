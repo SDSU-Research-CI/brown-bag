{
 "cells": [
  {
   "cell_type": "markdown",
   "id": "e8f9cc16-2824-463d-8e41-79942c102ace",
   "metadata": {},
   "source": [
    "# Data Analysis"
   ]
  },
  {
   "cell_type": "markdown",
   "id": "dcb7eece-baa4-4cef-af7b-5030c38de9b0",
   "metadata": {},
   "source": [
    "## ✔ Mission Objectives\n",
    "After you complete this notebook you will be able to:\n",
    "1. Understand the value of containers for Jupyter Notebooks\n",
    "2. Perform simple data analysis using common python packages\n",
    "3. Create data visualizations using common python packages"
   ]
  },
  {
   "cell_type": "markdown",
   "id": "2863cfd3-6b2b-49e2-b09a-bc3022804837",
   "metadata": {},
   "source": [
    "## 📦 Containers for Jupyter Notebooks"
   ]
  },
  {
   "cell_type": "markdown",
   "id": "2018a43a-5775-419a-9a0f-2d5188df23f7",
   "metadata": {},
   "source": [
    "If you were to run a Jupyter Notebook on your local machine then you would also have to install any packages that you might need. This not only takes time, it also takes disk space on your local machine. If you do a lot of work, or need to install several versions of software in different environments for different projects, then it can really add up.\n",
    "\n",
    "Luckily, with the [available container images](https://sdsu-research-ci.github.io/instructionalcluster/images), we have container images that should have what you need for most data science and machine learning workflows. If you do find that you need to install software in addition to what is already provided, please reach out to Research and Cyberinfrastructure and we can discuss creating a customized image as part of our [Software Factory](https://it.sdsu.edu/research/services/software-factory). Let's see containers in action in the context of Jupyter Notebooks with some simple data analysis."
   ]
  },
  {
   "cell_type": "markdown",
   "id": "53d36f5b-9154-4e30-92ff-b268a9253ec7",
   "metadata": {},
   "source": [
    "## 👩‍🔬👨‍🔬 Data Analysis"
   ]
  },
  {
   "cell_type": "markdown",
   "id": "45419eae-66eb-42fa-a796-dd4e348a3a00",
   "metadata": {},
   "source": [
    "If you've been following along, then you started your notebook with the Stack Datascience image. We can check the python packages that were installed via this container image with `!pip list`:"
   ]
  },
  {
   "cell_type": "code",
   "execution_count": null,
   "id": "902b260e-77bb-4a91-aac8-2c21065a13c0",
   "metadata": {},
   "outputs": [],
   "source": [
    "!pip list"
   ]
  },
  {
   "cell_type": "markdown",
   "id": "c9229ff3-d842-40b5-ba06-835fb20d760b",
   "metadata": {},
   "source": [
    "As you may note, that is quite a few python packages that are ready to go."
   ]
  },
  {
   "cell_type": "markdown",
   "id": "5b21a040-33c5-45ff-bd25-292efa386d93",
   "metadata": {},
   "source": [
    "## 🚀 Next Destination: Git Source Control Management\n",
    "Now that we've done some data analysis, let's explore our next topic: [Git Source Control Management](./git.ipynb)."
   ]
  },
  {
   "cell_type": "code",
   "execution_count": null,
   "id": "0eeda105-5115-45a2-8b0b-84f8f9db8c0e",
   "metadata": {},
   "outputs": [],
   "source": []
  }
 ],
 "metadata": {
  "kernelspec": {
   "display_name": "Python 3 (ipykernel)",
   "language": "python",
   "name": "python3"
  },
  "language_info": {
   "codemirror_mode": {
    "name": "ipython",
    "version": 3
   },
   "file_extension": ".py",
   "mimetype": "text/x-python",
   "name": "python",
   "nbconvert_exporter": "python",
   "pygments_lexer": "ipython3",
   "version": "3.10.9"
  }
 },
 "nbformat": 4,
 "nbformat_minor": 5
}
