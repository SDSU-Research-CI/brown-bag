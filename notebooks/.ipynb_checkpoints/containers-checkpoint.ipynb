{
 "cells": [
  {
   "cell_type": "markdown",
   "metadata": {},
   "source": [
    "# Containers\n",
    "\n",
    "## Defining Containers and Containerization\n",
    "At a high-level, containers are a method of packaging software applications with all of their dependencies like the operating system (OS), file structures, configuration and other code libraries.\n",
    "\n",
    "Containerization is the process of taking an application and modifying it to run in a container.\n",
    "\n",
    "Containerizing applications allows a container runtime to run multiple containers in parallel without the applications and their dependencies conflicting with one another. \n",
    "\n",
    "A helpful analogy for these concepts is to think of the standard shipping container:\n",
    "![Shipping container](../images/container1.jpg)\n",
    "\n",
    "A shipping container has standardized dimensions and can be loaded with various contents. The contents of one container do not affect the contents of another container. These facts allow for trucks, cranes, ships and trains to load, transport and unload containers in a uniform manner. Shipping companies can transport containers from different companies with various products, so long as the products fit into a shipping container.\n",
    "\n",
    "## Benefits of Containers\n",
    "Containers offer many benefits but here we list a few of the most impactful ones: \n",
    "\n",
    "### 1. Isolated Runtime Environment\n",
    "Each container runs in its own isolated environment which means that it can run alongside other apps without affecting them. \n",
    "\n",
    "For example, you could have two containerized applications \"A\" and \"B\" that both use the same library \"Lib X.\" However, app A uses Lib X version 1.0 and app B uses version 2.0. If we were running these apps on the same computer without containerizing them we would have to install and configure some sort of environment management to make sure each app has access to the version of Lib X that it needs. Running these in a container frees us from the concern, as each app is packaged up with its own copy and version of Lib X.\n",
    "\n",
    "### 2. Portability\n",
    "Because containers are standardized, you can run a container on your laptop and, without modifying it, you can run the same container on the cloud.\n",
    "\n",
    "### 3. Reproducability\n",
    "Since containers are self-contained, you can easily share a copy of your container and allow others to run it and get the same output. This saves time as you can avoid having to troubleshoot running on different operating systems, having different library versions, using different file layouts, forgetting configuration steps etc.\n",
    "\n",
    "## Running a Container\n",
    "Containers don't run directly on your machine, but instead are executed by a container runtime. We will be considering [Docker](https://www.docker.com/) in the following examples, but there are alternatives such as [Singularity](https://sylabs.io/)\n",
    "\n",
    "In addition to container runtimes, there are also container orchestration platforms, such as [Kubernetes](https://kubernetes.io/), which automate the lifecycle of containers such as deployment, scaling and maintaining containerized apps. For now we will focus on container runtimes.\n",
    "\n",
    "### Installing Docker\n",
    "If you'd like to get hands-on with the examples you can download and install [Docker Desktop](https://www.docker.com/products/docker-desktop/). Note: You may need admin credentials to do so on a work computer.\n",
    "\n",
    "### Pulling an Image\n",
    "\n",
    "### Checking Downloaded Images\n",
    "\n",
    "### Starting a Container\n",
    "\n",
    "### Deleting a Container\n",
    "\n",
    "\n",
    "## Creating a Container\n",
    "\n",
    "\n",
    "## Application to the Instructional Cluster\n",
    "\n"
   ]
  }
 ],
 "metadata": {
  "kernelspec": {
   "display_name": "Python 3",
   "language": "python",
   "name": "python3"
  },
  "language_info": {
   "name": "python",
   "version": "3.8.10"
  },
  "orig_nbformat": 4
 },
 "nbformat": 4,
 "nbformat_minor": 2
}
