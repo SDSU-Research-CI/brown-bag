{
 "cells": [
  {
   "cell_type": "markdown",
   "id": "16c03a96-9879-4f5b-9ed0-9b3819780e12",
   "metadata": {},
   "source": [
    "# Jupyter Notebooks\n",
    "\n",
    "## ✔ Mission Objectives\n",
    "After you complete this notebook you will be able to:\n",
    "1. Blah\n",
    "2. Blah\n",
    "3. Blah"
   ]
  },
  {
   "cell_type": "code",
   "execution_count": null,
   "id": "ec5e5c5c-7a1d-4c00-bc42-a14d82fc7f4b",
   "metadata": {},
   "outputs": [],
   "source": []
  }
 ],
 "metadata": {
  "kernelspec": {
   "display_name": "Python 3 (ipykernel)",
   "language": "python",
   "name": "python3"
  },
  "language_info": {
   "codemirror_mode": {
    "name": "ipython",
    "version": 3
   },
   "file_extension": ".py",
   "mimetype": "text/x-python",
   "name": "python",
   "nbconvert_exporter": "python",
   "pygments_lexer": "ipython3",
   "version": "3.10.9"
  }
 },
 "nbformat": 4,
 "nbformat_minor": 5
}
