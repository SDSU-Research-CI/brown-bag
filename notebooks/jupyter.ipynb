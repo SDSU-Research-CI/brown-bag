{
 "cells": [
  {
   "cell_type": "markdown",
   "id": "16c03a96-9879-4f5b-9ed0-9b3819780e12",
   "metadata": {},
   "source": [
    "# Jupyter Notebooks"
   ]
  },
  {
   "cell_type": "markdown",
   "id": "25f77a79-e5f0-4809-ab93-ad520686ca54",
   "metadata": {},
   "source": [
    "## ✔ Mission Objectives\n",
    "After you complete this notebook you will be able to:\n",
    "1. Understand the value of Jupyter Notebooks\n",
    "2. Use basic keyboard shortcuts\n",
    "3. Use magic commands\n",
    "4. Use markdown cells\n",
    "5. Use code cells"
   ]
  },
  {
   "cell_type": "markdown",
   "id": "d1d80c36-a72d-40d3-aafe-e08a12d16678",
   "metadata": {},
   "source": [
    "## 💲 Value of Jupyter Notebooks"
   ]
  },
  {
   "cell_type": "markdown",
   "id": "94548cf0-be06-464f-b10f-83061a49a973",
   "metadata": {},
   "source": [
    "Jupyter Notebooks are valuable because they make coding and data analysis approachable with an interactive GUI and they eliminate the need to install several tools, thus lending themselves to collaboration.\n",
    "\n",
    "Whether you are a student learning to code for the first time, an experienced data scientist or researcher, you will benefit from the rich interactivity of Jupyter Notebooks.\n",
    "\n",
    "Jupyter Notebooks allow you to take rich notes; write, execute, and debug code; and display data and reports -- all from one web-based application. Let's condsider for a moment what software you would need to replace Jupyter Notebooks. You would need a notetaking app like Microsoft OneNote, Google Docs or Evernote. You would also need an Integrated Development Environment (IDE) such as Visual Studio, JetBrains or PyCharm. You would also need tools to interact with and analyze data such as Microsoft Excel, Google Sheets, or Minitab. At a minimum you would need to install and maintain 3 software tools, not to mention you would need to keep your work in sync across them all and need to constantly context switch between them.\n",
    "\n",
    "With the interactivity and consolidation of several tools, Jupyter Notebooks makes it easy to collaborate with colleagues and teammates. All you need to do is share your notebook with them and they can instantly read your notes, run your code and interpret your analyses."
   ]
  },
  {
   "cell_type": "markdown",
   "id": "a6660cca-f626-42b6-9c07-7ce8c4d9dc69",
   "metadata": {},
   "source": [
    "## ⌨ Keyboard Shortcuts"
   ]
  },
  {
   "cell_type": "markdown",
   "id": "71b44361-dd6d-44fc-8930-b9d8282d119f",
   "metadata": {},
   "source": [
    "Jupyter Notebooks have several keyboard shortcuts for user convenience. In this section we will only discuss a few basic shortcuts.\n",
    "\n",
    "Before using a shortcut, you must be in command mode. If you see a colored border around a cell, that means you are in edit mode. To get to command mode press the `esc` key.\n",
    "\n",
    "Once you are in command mode, try experimenting with these commands below in the corresponding cells below:\n",
    "- Running cells\n",
    "  - `Shift + Enter`\n",
    "- Inserting cells\n",
    "  - `a` -- insert cell above selected cell\n",
    "  - `b` -- insert cell below selected cell\n",
    "- Deleting a cell\n",
    "  - `dd`\n",
    "- Changing a cell type\n",
    "  - `m` -- Change to markdown cell\n",
    "  - `y` -- Change to code cell"
   ]
  },
  {
   "cell_type": "code",
   "execution_count": null,
   "id": "6e048b76-b17e-4eb4-a51e-bd89554185e6",
   "metadata": {},
   "outputs": [],
   "source": [
    "print(\"Run me to see what happens!\")"
   ]
  },
  {
   "cell_type": "markdown",
   "id": "8199f559-8938-4b07-be23-b2db0a1630e0",
   "metadata": {},
   "source": [
    "Insert a cell above me and below me!"
   ]
  },
  {
   "cell_type": "markdown",
   "id": "6f7f3bd8-f7b0-44cc-aecf-f6e2bb52cc46",
   "metadata": {},
   "source": [
    "Delete me!"
   ]
  },
  {
   "cell_type": "code",
   "execution_count": null,
   "id": "bf1c74b8-9e71-46ef-b791-c3b5f95ff17e",
   "metadata": {},
   "outputs": [],
   "source": [
    "# Change me to a markdown cell"
   ]
  },
  {
   "cell_type": "raw",
   "id": "7403554b-388c-49d3-9478-2bbedb70aa20",
   "metadata": {},
   "source": [
    "print(\"Change me to a code cell. Extra credit if you run me after changing me.\")"
   ]
  },
  {
   "cell_type": "markdown",
   "id": "925221a7-de3d-40d6-8ad4-a56975b8d089",
   "metadata": {},
   "source": [
    "### 📃 Full List of Shortcuts\n",
    "If you want a full list of keyboard shortcuts use this shortcut: `ctrl + ,` then use the search bar for `shortcuts`."
   ]
  },
  {
   "cell_type": "markdown",
   "id": "b68e83fc-d1f0-496d-b411-db6a4660df33",
   "metadata": {},
   "source": [
    "## 🧙‍♂️ Magic Commands"
   ]
  },
  {
   "cell_type": "markdown",
   "id": "976f3d38-ca48-4c48-9e8a-d39ebbb14793",
   "metadata": {},
   "source": [
    "Jupyter Notebooks have \"magic commands\" that allow you to do things like running terminal commands from a code cell.\n",
    "\n",
    "For example, the below code cell will show us what user we are logged into using the `whoami` linux command:"
   ]
  },
  {
   "cell_type": "code",
   "execution_count": 2,
   "id": "ad82d245-d186-4493-adbc-ccdfc8f8f992",
   "metadata": {
    "tags": []
   },
   "outputs": [
    {
     "name": "stdout",
     "output_type": "stream",
     "text": [
      "jovyan\n"
     ]
    }
   ],
   "source": [
    "!whoami"
   ]
  },
  {
   "cell_type": "markdown",
   "id": "56e904a4-82c4-46cb-88ae-5ed9d7bbac6a",
   "metadata": {},
   "source": [
    "There are also useful magic commands for timing code execution like the %time command:"
   ]
  },
  {
   "cell_type": "code",
   "execution_count": 6,
   "id": "fa4ae9c6-cd57-44c4-a458-9973e6d99cfc",
   "metadata": {
    "tags": []
   },
   "outputs": [
    {
     "name": "stdout",
     "output_type": "stream",
     "text": [
      "CPU times: user 1e+03 ns, sys: 0 ns, total: 1e+03 ns\n",
      "Wall time: 4.29 µs\n",
      "How long does it take to print this message?\n",
      "But am I timed?\n"
     ]
    }
   ],
   "source": [
    "%time \n",
    "print(\"How long does it take to print this message?\")\n",
    "\n",
    "print(\"But am I timed?\")"
   ]
  },
  {
   "cell_type": "markdown",
   "id": "7bf9cba9-b8e5-48fa-be5e-c4dcd15ba6ab",
   "metadata": {},
   "source": [
    "## 🔽 Markdown Cells"
   ]
  },
  {
   "cell_type": "markdown",
   "id": "37c275ef-8af9-414d-b198-75c46527369c",
   "metadata": {},
   "source": []
  },
  {
   "cell_type": "markdown",
   "id": "ffb3b81a-d661-4d48-8676-f76c9219fa7e",
   "metadata": {},
   "source": [
    "## 👩‍💻👨‍💻 Code Cells"
   ]
  },
  {
   "cell_type": "markdown",
   "id": "f69ff79a-862f-4a5f-8916-d5204d64bde1",
   "metadata": {},
   "source": []
  }
 ],
 "metadata": {
  "kernelspec": {
   "display_name": "Python 3 (ipykernel)",
   "language": "python",
   "name": "python3"
  },
  "language_info": {
   "codemirror_mode": {
    "name": "ipython",
    "version": 3
   },
   "file_extension": ".py",
   "mimetype": "text/x-python",
   "name": "python",
   "nbconvert_exporter": "python",
   "pygments_lexer": "ipython3",
   "version": "3.10.9"
  }
 },
 "nbformat": 4,
 "nbformat_minor": 5
}
