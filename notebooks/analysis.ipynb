{
 "cells": [
  {
   "cell_type": "markdown",
   "id": "e8f9cc16-2824-463d-8e41-79942c102ace",
   "metadata": {},
   "source": [
    "# Data Analysis"
   ]
  },
  {
   "cell_type": "markdown",
   "id": "dcb7eece-baa4-4cef-af7b-5030c38de9b0",
   "metadata": {},
   "source": [
    "## ✔ Mission Objectives\n",
    "After you complete this notebook you will be able to:\n",
    "1. Understand the value of containers for Jupyter Notebooks\n",
    "2. Perform simple data analysis using common python packages\n",
    "3. Create data visualizations using common python packages"
   ]
  },
  {
   "cell_type": "markdown",
   "id": "2863cfd3-6b2b-49e2-b09a-bc3022804837",
   "metadata": {},
   "source": [
    "## 📦 Containers for Jupyter Notebooks"
   ]
  },
  {
   "cell_type": "markdown",
   "id": "2018a43a-5775-419a-9a0f-2d5188df23f7",
   "metadata": {},
   "source": [
    "If you were to run a Jupyter Notebook on your local machine then you would also have to install any packages that you might need. This not only takes time, it also takes disk space on your local machine. If you do a lot of work, or need to install several versions of software in different environments for different projects, then it can really add up.\n",
    "\n",
    "Luckily, with the <a href=\"https://sdsu-research-ci.github.io/instructionalcluster/images\" target=\"_blank\">available container images</a>, we have container images that should have what you need for most data science and machine learning workflows. If you do find that you need to install software in addition to what is already provided, please reach out to Research and Cyberinfrastructure and we can discuss creating a customized image as part of our <a href=\"https://it.sdsu.edu/research/services/software-factory\" target=\"_blank\">Software Factory</a>. Let's see containers in action in the context of Jupyter Notebooks with some simple data analysis."
   ]
  },
  {
   "cell_type": "markdown",
   "id": "53d36f5b-9154-4e30-92ff-b268a9253ec7",
   "metadata": {},
   "source": [
    "## 👩‍🔬👨‍🔬 Data Analysis with Python"
   ]
  },
  {
   "cell_type": "markdown",
   "id": "45419eae-66eb-42fa-a796-dd4e348a3a00",
   "metadata": {},
   "source": [
    "If you've been following along, then you started your notebook with the Stack Datascience image.\n",
    "\n",
    "We can check the python packages that were installed via this container image with `!pip list`:"
   ]
  },
  {
   "cell_type": "code",
   "execution_count": 1,
   "id": "902b260e-77bb-4a91-aac8-2c21065a13c0",
   "metadata": {},
   "outputs": [
    {
     "name": "stdout",
     "output_type": "stream",
     "text": [
      "Package                       Version\n",
      "----------------------------- -----------\n",
      "aiofiles                      22.1.0\n",
      "aiosqlite                     0.18.0\n",
      "alembic                       1.10.2\n",
      "altair                        4.2.2\n",
      "anyio                         3.6.2\n",
      "argon2-cffi                   21.3.0\n",
      "argon2-cffi-bindings          21.2.0\n",
      "asttokens                     2.2.1\n",
      "async-generator               1.10\n",
      "attrs                         22.2.0\n",
      "Babel                         2.12.1\n",
      "backcall                      0.2.0\n",
      "backports.functools-lru-cache 1.6.4\n",
      "beautifulsoup4                4.12.0\n",
      "bleach                        6.0.0\n",
      "blinker                       1.5\n",
      "bokeh                         3.1.0\n",
      "Bottleneck                    1.3.7\n",
      "brotlipy                      0.7.0\n",
      "cached-property               1.5.2\n",
      "certifi                       2022.12.7\n",
      "certipy                       0.1.3\n",
      "cffi                          1.15.1\n",
      "charset-normalizer            2.1.1\n",
      "click                         8.1.3\n",
      "cloudpickle                   2.2.1\n",
      "colorama                      0.4.6\n",
      "comm                          0.1.2\n",
      "conda                         23.1.0\n",
      "conda-package-handling        2.0.2\n",
      "conda_package_streaming       0.7.0\n",
      "contourpy                     1.0.7\n",
      "cryptography                  39.0.2\n",
      "cycler                        0.11.0\n",
      "Cython                        0.29.33\n",
      "cytoolz                       0.12.0\n",
      "dask                          2022.11.0\n",
      "debugpy                       1.6.6\n",
      "decorator                     5.1.1\n",
      "defusedxml                    0.7.1\n",
      "dill                          0.3.6\n",
      "distributed                   2022.11.0\n",
      "entrypoints                   0.4\n",
      "executing                     1.2.0\n",
      "fastjsonschema                2.16.3\n",
      "flit_core                     3.8.0\n",
      "fonttools                     4.39.2\n",
      "fsspec                        2023.3.0\n",
      "gmpy2                         2.1.2\n",
      "greenlet                      2.0.2\n",
      "h5py                          3.8.0\n",
      "HeapDict                      1.0.1\n",
      "idna                          3.4\n",
      "imagecodecs                   2023.1.23\n",
      "imageio                       2.26.0\n",
      "importlib-metadata            6.1.0\n",
      "importlib-resources           5.12.0\n",
      "ipykernel                     6.22.0\n",
      "ipympl                        0.9.3\n",
      "ipython                       8.11.0\n",
      "ipython-genutils              0.2.0\n",
      "ipywidgets                    8.0.4\n",
      "jedi                          0.18.2\n",
      "Jinja2                        3.1.2\n",
      "joblib                        1.2.0\n",
      "json5                         0.9.5\n",
      "jsonschema                    4.17.3\n",
      "jupyter-client                7.3.4\n",
      "jupyter_core                  5.3.0\n",
      "jupyter-events                0.6.3\n",
      "jupyter-server                1.23.6\n",
      "jupyter_server_fileid         0.8.0\n",
      "jupyter_server_terminals      0.4.4\n",
      "jupyter_server_ydoc           0.8.0\n",
      "jupyter-telemetry             0.1.0\n",
      "jupyter-ydoc                  0.2.3\n",
      "jupyterhub                    3.1.1\n",
      "jupyterlab                    3.6.2\n",
      "jupyterlab-pygments           0.2.2\n",
      "jupyterlab_server             2.20.0\n",
      "jupyterlab-widgets            3.0.5\n",
      "kiwisolver                    1.4.4\n",
      "libmambapy                    1.3.1\n",
      "llvmlite                      0.39.1\n",
      "locket                        1.0.0\n",
      "lz4                           4.3.2\n",
      "Mako                          1.2.4\n",
      "mamba                         1.3.1\n",
      "MarkupSafe                    2.1.2\n",
      "matplotlib                    3.7.1\n",
      "matplotlib-inline             0.1.6\n",
      "mistune                       2.0.5\n",
      "mpmath                        1.3.0\n",
      "msgpack                       1.0.5\n",
      "munkres                       1.1.4\n",
      "nbclassic                     0.5.3\n",
      "nbclient                      0.7.2\n",
      "nbconvert                     7.2.9\n",
      "nbformat                      5.8.0\n",
      "nest-asyncio                  1.5.6\n",
      "networkx                      3.0\n",
      "notebook                      6.5.3\n",
      "notebook_shim                 0.2.2\n",
      "numba                         0.56.4\n",
      "numexpr                       2.8.3\n",
      "numpy                         1.23.5\n",
      "oauthlib                      3.2.2\n",
      "packaging                     23.0\n",
      "pamela                        1.0.0\n",
      "pandas                        1.5.3\n",
      "pandocfilters                 1.5.0\n",
      "parso                         0.8.3\n",
      "partd                         1.3.0\n",
      "patsy                         0.5.3\n",
      "pexpect                       4.8.0\n",
      "pickleshare                   0.7.5\n",
      "Pillow                        9.4.0\n",
      "pip                           23.0.1\n",
      "pkgutil_resolve_name          1.3.10\n",
      "platformdirs                  3.1.1\n",
      "pluggy                        1.0.0\n",
      "pooch                         1.7.0\n",
      "prometheus-client             0.16.0\n",
      "prompt-toolkit                3.0.38\n",
      "protobuf                      4.21.12\n",
      "psutil                        5.9.4\n",
      "ptyprocess                    0.7.0\n",
      "pure-eval                     0.2.2\n",
      "pycosat                       0.6.4\n",
      "pycparser                     2.21\n",
      "pycurl                        7.45.1\n",
      "Pygments                      2.14.0\n",
      "PyJWT                         2.6.0\n",
      "pyOpenSSL                     23.0.0\n",
      "pyparsing                     3.0.9\n",
      "pyrsistent                    0.19.3\n",
      "PySocks                       1.7.1\n",
      "python-dateutil               2.8.2\n",
      "python-json-logger            2.0.7\n",
      "pytz                          2022.7.1\n",
      "PyWavelets                    1.4.1\n",
      "PyYAML                        6.0\n",
      "pyzmq                         25.0.2\n",
      "requests                      2.28.2\n",
      "rfc3339-validator             0.1.4\n",
      "rfc3986-validator             0.1.1\n",
      "ruamel.yaml                   0.17.21\n",
      "ruamel.yaml.clib              0.2.7\n",
      "scikit-image                  0.19.3\n",
      "scikit-learn                  1.2.2\n",
      "scipy                         1.10.1\n",
      "seaborn                       0.12.2\n",
      "Send2Trash                    1.8.0\n",
      "setuptools                    67.6.0\n",
      "six                           1.16.0\n",
      "sniffio                       1.3.0\n",
      "sortedcontainers              2.4.0\n",
      "soupsieve                     2.3.2.post1\n",
      "SQLAlchemy                    2.0.7\n",
      "stack-data                    0.6.2\n",
      "statsmodels                   0.13.5\n",
      "sympy                         1.11.1\n",
      "tables                        3.7.0\n",
      "tblib                         1.7.0\n",
      "terminado                     0.17.1\n",
      "threadpoolctl                 3.1.0\n",
      "tifffile                      2023.3.15\n",
      "tinycss2                      1.2.1\n",
      "tomli                         2.0.1\n",
      "toolz                         0.12.0\n",
      "tornado                       6.1\n",
      "tqdm                          4.65.0\n",
      "traitlets                     5.9.0\n",
      "typing_extensions             4.5.0\n",
      "unicodedata2                  15.0.0\n",
      "urllib3                       1.26.15\n",
      "wcwidth                       0.2.6\n",
      "webencodings                  0.5.1\n",
      "websocket-client              1.5.1\n",
      "wheel                         0.40.0\n",
      "widgetsnbextension            4.0.5\n",
      "xlrd                          2.0.1\n",
      "xyzservices                   2023.2.0\n",
      "y-py                          0.5.9\n",
      "ypy-websocket                 0.8.2\n",
      "zict                          2.2.0\n",
      "zipp                          3.15.0\n",
      "zstandard                     0.19.0\n"
     ]
    }
   ],
   "source": [
    "!pip list"
   ]
  },
  {
   "cell_type": "markdown",
   "id": "c9229ff3-d842-40b5-ba06-835fb20d760b",
   "metadata": {},
   "source": [
    "As you may note, that is quite a few python packages that are ready to go.\n",
    "\n",
    "Now, let's start analyzing some data using <a href=\"https://pandas.pydata.org/\" target=\"_blank\">Pandas</a>, which is a popular data analysis tool. Pandas is especially suited to working with tabular data (rows and columns) with it's <a href=\"https://pandas.pydata.org/docs/reference/api/pandas.DataFrame.html?highlight=dataframe#pandas.DataFrame\" target=\"_blank\">DataFrame</a>\n",
    " object.\n",
    "\n",
    "Let's begin by importing pandas:"
   ]
  },
  {
   "cell_type": "code",
   "execution_count": 2,
   "id": "dcf93b6c-393a-4635-bd4a-cce25f2671f2",
   "metadata": {
    "tags": []
   },
   "outputs": [],
   "source": [
    "import pandas as pd"
   ]
  },
  {
   "cell_type": "markdown",
   "id": "93193e62-fe5b-4058-8e46-334112a5985c",
   "metadata": {},
   "source": [
    "*Note*: If you were to run this notebook locally, then you would first need to ensure that pandas was installed with `!pip show pandas`. If it is not installed, you'd need to run `!pip install pandas`.\n",
    "\n",
    "Since we are using the Stack Datascience container image we can safely skip these steps.\n",
    "\n",
    "We will be using the provided laptops dataset which is available at `./data/laptops.csv`. \n",
    "\n",
    "Let's use Pandas to load the data from the csv file into a Pandas DataFrame object using Pandas' [read_csv](https://pandas.pydata.org/docs/reference/api/pandas.read_csv.html?highlight=read_csv#pandas-read-csv) method:"
   ]
  },
  {
   "cell_type": "code",
   "execution_count": 3,
   "id": "7b06bca9-2d7e-4fcf-80d1-f11492381c1b",
   "metadata": {
    "tags": []
   },
   "outputs": [],
   "source": [
    "laptops = pd.read_csv('./data/laptops.csv', encoding='ISO-8859-1', index_col=0)"
   ]
  },
  {
   "cell_type": "markdown",
   "id": "98d7b002-7d22-4135-bb30-70bead6cbcca",
   "metadata": {},
   "source": [
    "We can quickly get an idea of the data that we're dealing with by using the <a href=\"https://pandas.pydata.org/docs/reference/api/pandas.DataFrame.head.html?highlight=dataframe%20head#pandas.DataFrame.head\" target=\"_blank\">DataFrame.head()</a> method to print out the first few rows of the data:"
   ]
  },
  {
   "cell_type": "code",
   "execution_count": 4,
   "id": "66ec4f6d-6510-4959-8b48-a5cff2b07dd9",
   "metadata": {
    "tags": []
   },
   "outputs": [
    {
     "data": {
      "text/html": [
       "<div>\n",
       "<style scoped>\n",
       "    .dataframe tbody tr th:only-of-type {\n",
       "        vertical-align: middle;\n",
       "    }\n",
       "\n",
       "    .dataframe tbody tr th {\n",
       "        vertical-align: top;\n",
       "    }\n",
       "\n",
       "    .dataframe thead th {\n",
       "        text-align: right;\n",
       "    }\n",
       "</style>\n",
       "<table border=\"1\" class=\"dataframe\">\n",
       "  <thead>\n",
       "    <tr style=\"text-align: right;\">\n",
       "      <th></th>\n",
       "      <th>Company</th>\n",
       "      <th>Product</th>\n",
       "      <th>TypeName</th>\n",
       "      <th>Inches</th>\n",
       "      <th>ScreenResolution</th>\n",
       "      <th>Cpu</th>\n",
       "      <th>Ram</th>\n",
       "      <th>Memory</th>\n",
       "      <th>Gpu</th>\n",
       "      <th>OpSys</th>\n",
       "      <th>Weight</th>\n",
       "      <th>Price_euros</th>\n",
       "    </tr>\n",
       "  </thead>\n",
       "  <tbody>\n",
       "    <tr>\n",
       "      <th>1</th>\n",
       "      <td>Apple</td>\n",
       "      <td>MacBook Pro</td>\n",
       "      <td>Ultrabook</td>\n",
       "      <td>13.3</td>\n",
       "      <td>IPS Panel Retina Display 2560x1600</td>\n",
       "      <td>Intel Core i5 2.3GHz</td>\n",
       "      <td>8GB</td>\n",
       "      <td>128GB SSD</td>\n",
       "      <td>Intel Iris Plus Graphics 640</td>\n",
       "      <td>macOS</td>\n",
       "      <td>1.37kg</td>\n",
       "      <td>1339.69</td>\n",
       "    </tr>\n",
       "    <tr>\n",
       "      <th>2</th>\n",
       "      <td>Apple</td>\n",
       "      <td>Macbook Air</td>\n",
       "      <td>Ultrabook</td>\n",
       "      <td>13.3</td>\n",
       "      <td>1440x900</td>\n",
       "      <td>Intel Core i5 1.8GHz</td>\n",
       "      <td>8GB</td>\n",
       "      <td>128GB Flash Storage</td>\n",
       "      <td>Intel HD Graphics 6000</td>\n",
       "      <td>macOS</td>\n",
       "      <td>1.34kg</td>\n",
       "      <td>898.94</td>\n",
       "    </tr>\n",
       "    <tr>\n",
       "      <th>3</th>\n",
       "      <td>HP</td>\n",
       "      <td>250 G6</td>\n",
       "      <td>Notebook</td>\n",
       "      <td>15.6</td>\n",
       "      <td>Full HD 1920x1080</td>\n",
       "      <td>Intel Core i5 7200U 2.5GHz</td>\n",
       "      <td>8GB</td>\n",
       "      <td>256GB SSD</td>\n",
       "      <td>Intel HD Graphics 620</td>\n",
       "      <td>No OS</td>\n",
       "      <td>1.86kg</td>\n",
       "      <td>575.00</td>\n",
       "    </tr>\n",
       "    <tr>\n",
       "      <th>4</th>\n",
       "      <td>Apple</td>\n",
       "      <td>MacBook Pro</td>\n",
       "      <td>Ultrabook</td>\n",
       "      <td>15.4</td>\n",
       "      <td>IPS Panel Retina Display 2880x1800</td>\n",
       "      <td>Intel Core i7 2.7GHz</td>\n",
       "      <td>16GB</td>\n",
       "      <td>512GB SSD</td>\n",
       "      <td>AMD Radeon Pro 455</td>\n",
       "      <td>macOS</td>\n",
       "      <td>1.83kg</td>\n",
       "      <td>2537.45</td>\n",
       "    </tr>\n",
       "    <tr>\n",
       "      <th>5</th>\n",
       "      <td>Apple</td>\n",
       "      <td>MacBook Pro</td>\n",
       "      <td>Ultrabook</td>\n",
       "      <td>13.3</td>\n",
       "      <td>IPS Panel Retina Display 2560x1600</td>\n",
       "      <td>Intel Core i5 3.1GHz</td>\n",
       "      <td>8GB</td>\n",
       "      <td>256GB SSD</td>\n",
       "      <td>Intel Iris Plus Graphics 650</td>\n",
       "      <td>macOS</td>\n",
       "      <td>1.37kg</td>\n",
       "      <td>1803.60</td>\n",
       "    </tr>\n",
       "  </tbody>\n",
       "</table>\n",
       "</div>"
      ],
      "text/plain": [
       "  Company      Product   TypeName  Inches                    ScreenResolution  \\\n",
       "1   Apple  MacBook Pro  Ultrabook    13.3  IPS Panel Retina Display 2560x1600   \n",
       "2   Apple  Macbook Air  Ultrabook    13.3                            1440x900   \n",
       "3      HP       250 G6   Notebook    15.6                   Full HD 1920x1080   \n",
       "4   Apple  MacBook Pro  Ultrabook    15.4  IPS Panel Retina Display 2880x1800   \n",
       "5   Apple  MacBook Pro  Ultrabook    13.3  IPS Panel Retina Display 2560x1600   \n",
       "\n",
       "                          Cpu   Ram               Memory  \\\n",
       "1        Intel Core i5 2.3GHz   8GB            128GB SSD   \n",
       "2        Intel Core i5 1.8GHz   8GB  128GB Flash Storage   \n",
       "3  Intel Core i5 7200U 2.5GHz   8GB            256GB SSD   \n",
       "4        Intel Core i7 2.7GHz  16GB            512GB SSD   \n",
       "5        Intel Core i5 3.1GHz   8GB            256GB SSD   \n",
       "\n",
       "                            Gpu  OpSys  Weight  Price_euros  \n",
       "1  Intel Iris Plus Graphics 640  macOS  1.37kg      1339.69  \n",
       "2        Intel HD Graphics 6000  macOS  1.34kg       898.94  \n",
       "3         Intel HD Graphics 620  No OS  1.86kg       575.00  \n",
       "4            AMD Radeon Pro 455  macOS  1.83kg      2537.45  \n",
       "5  Intel Iris Plus Graphics 650  macOS  1.37kg      1803.60  "
      ]
     },
     "execution_count": 4,
     "metadata": {},
     "output_type": "execute_result"
    }
   ],
   "source": [
    "laptops.head()"
   ]
  },
  {
   "cell_type": "markdown",
   "id": "3f8b20aa-7208-4c4f-9090-68fea8077fee",
   "metadata": {},
   "source": [
    "To get the total number of rows and columns we have in our dataset we can access the <a href=\"https://pandas.pydata.org/docs/reference/api/pandas.DataFrame.shape.html\" target=\"_blank\">DataFrame.shape</a> property: "
   ]
  },
  {
   "cell_type": "code",
   "execution_count": 5,
   "id": "d0207580-46ff-4815-9289-a956836d170f",
   "metadata": {
    "tags": []
   },
   "outputs": [
    {
     "data": {
      "text/plain": [
       "(1303, 12)"
      ]
     },
     "execution_count": 5,
     "metadata": {},
     "output_type": "execute_result"
    }
   ],
   "source": [
    "laptops.shape"
   ]
  },
  {
   "cell_type": "markdown",
   "id": "dce6cab2-71f6-4466-ba90-535b58361d27",
   "metadata": {},
   "source": [
    "We can interact with each of the columns of the dataset. Each column in the pandas DataFrame is a <a href=\"https://pandas.pydata.org/docs/reference/series.html\" target=\"_blank\">Series</a> object.\n",
    "\n",
    "For instance, if we wanted to see all of the unique companies in the dataset, we could use the <a href=\"https://pandas.pydata.org/docs/reference/api/pandas.Series.unique.html\" target=\"_blank\">Series.unique</a> method:"
   ]
  },
  {
   "cell_type": "code",
   "execution_count": 6,
   "id": "e80553ea-1774-439b-98fe-d145f2fbfeea",
   "metadata": {
    "tags": []
   },
   "outputs": [
    {
     "data": {
      "text/plain": [
       "array(['Apple', 'HP', 'Acer', 'Asus', 'Dell', 'Lenovo', 'Chuwi', 'MSI',\n",
       "       'Microsoft', 'Toshiba', 'Huawei', 'Xiaomi', 'Vero', 'Razer',\n",
       "       'Mediacom', 'Samsung', 'Google', 'Fujitsu', 'LG'], dtype=object)"
      ]
     },
     "execution_count": 6,
     "metadata": {},
     "output_type": "execute_result"
    }
   ],
   "source": [
    "laptops['Company'].unique()"
   ]
  },
  {
   "cell_type": "markdown",
   "id": "45d1c42f-e26e-40a0-a849-2eb6d790044b",
   "metadata": {},
   "source": [
    "We can find the price of the most expensive laptop using the <a href=\"https://pandas.pydata.org/docs/reference/api/pandas.Series.max.html\" target=\"_blank\">Series.max()</a> method on the Price_euros column:"
   ]
  },
  {
   "cell_type": "code",
   "execution_count": 7,
   "id": "89b19e67-fa01-4745-ab64-1736bc849893",
   "metadata": {
    "tags": []
   },
   "outputs": [
    {
     "data": {
      "text/plain": [
       "6099.0"
      ]
     },
     "execution_count": 7,
     "metadata": {},
     "output_type": "execute_result"
    }
   ],
   "source": [
    "laptops['Price_euros'].max()"
   ]
  },
  {
   "cell_type": "markdown",
   "id": "d27619c2-bf02-4a9d-9097-01f1ee2c3151",
   "metadata": {},
   "source": [
    "If we want to see what the most expensive laptop across all companies in the dataset is, we can use the <a href=\"https://pandas.pydata.org/docs/reference/api/pandas.DataFrame.loc.html\" target=\"_blank\">DataFrame.loc[]</a> property to search by a specific column.\n",
    "\n",
    "The 'loc[]' property can apply a boolean expression for each element of a column, creating a Boolean mask that selects rows from that column.\n",
    "\n",
    "Below, we are using the \"Price_euros\" column to find the row in the DataFrame with the maximum price (in euros)."
   ]
  },
  {
   "cell_type": "code",
   "execution_count": 17,
   "id": "f7615a5d-8a6d-4131-b7cc-5e9c5eea9e37",
   "metadata": {
    "tags": []
   },
   "outputs": [
    {
     "data": {
      "text/html": [
       "<div>\n",
       "<style scoped>\n",
       "    .dataframe tbody tr th:only-of-type {\n",
       "        vertical-align: middle;\n",
       "    }\n",
       "\n",
       "    .dataframe tbody tr th {\n",
       "        vertical-align: top;\n",
       "    }\n",
       "\n",
       "    .dataframe thead th {\n",
       "        text-align: right;\n",
       "    }\n",
       "</style>\n",
       "<table border=\"1\" class=\"dataframe\">\n",
       "  <thead>\n",
       "    <tr style=\"text-align: right;\">\n",
       "      <th></th>\n",
       "      <th>Company</th>\n",
       "      <th>Product</th>\n",
       "      <th>TypeName</th>\n",
       "      <th>Inches</th>\n",
       "      <th>ScreenResolution</th>\n",
       "      <th>Cpu</th>\n",
       "      <th>Ram</th>\n",
       "      <th>Memory</th>\n",
       "      <th>Gpu</th>\n",
       "      <th>OpSys</th>\n",
       "      <th>Weight</th>\n",
       "      <th>Price_euros</th>\n",
       "    </tr>\n",
       "  </thead>\n",
       "  <tbody>\n",
       "    <tr>\n",
       "      <th>200</th>\n",
       "      <td>Razer</td>\n",
       "      <td>Blade Pro</td>\n",
       "      <td>Gaming</td>\n",
       "      <td>17.3</td>\n",
       "      <td>4K Ultra HD / Touchscreen 3840x2160</td>\n",
       "      <td>Intel Core i7 7820HK 2.9GHz</td>\n",
       "      <td>32GB</td>\n",
       "      <td>1TB SSD</td>\n",
       "      <td>Nvidia GeForce GTX 1080</td>\n",
       "      <td>Windows 10</td>\n",
       "      <td>3.49kg</td>\n",
       "      <td>6099.0</td>\n",
       "    </tr>\n",
       "  </tbody>\n",
       "</table>\n",
       "</div>"
      ],
      "text/plain": [
       "    Company    Product TypeName  Inches                     ScreenResolution  \\\n",
       "200   Razer  Blade Pro   Gaming    17.3  4K Ultra HD / Touchscreen 3840x2160   \n",
       "\n",
       "                             Cpu   Ram   Memory                      Gpu  \\\n",
       "200  Intel Core i7 7820HK 2.9GHz  32GB  1TB SSD  Nvidia GeForce GTX 1080   \n",
       "\n",
       "          OpSys  Weight  Price_euros  \n",
       "200  Windows 10  3.49kg       6099.0  "
      ]
     },
     "execution_count": 17,
     "metadata": {},
     "output_type": "execute_result"
    }
   ],
   "source": [
    "laptops.loc[laptops['Price_euros'] == laptops['Price_euros'].max()]"
   ]
  },
  {
   "cell_type": "markdown",
   "id": "615ae118-d15c-422f-87a3-1e18899dcf25",
   "metadata": {},
   "source": [
    "Now that we've found the most expensive laptop in the dataset, let's find the most expensive laptop made by each company. We can use the <a href=\"https://pandas.pydata.org/docs/reference/api/pandas.DataFrame.groupby.html\" target=\"_blank\">DataFrame.groupby</a> method and then calculate the max Price_euros:"
   ]
  },
  {
   "cell_type": "code",
   "execution_count": 21,
   "id": "246703cb-cce3-4575-b10a-ce4037717bc5",
   "metadata": {
    "tags": []
   },
   "outputs": [
    {
     "data": {
      "text/plain": [
       "Company\n",
       "Acer         2599.00\n",
       "Apple        2858.00\n",
       "Asus         3975.00\n",
       "Chuwi         449.00\n",
       "Dell         3659.40\n",
       "Fujitsu       799.00\n",
       "Google       2199.00\n",
       "HP           4389.00\n",
       "Huawei       1499.00\n",
       "LG           2299.00\n",
       "Lenovo       4899.00\n",
       "MSI          2799.00\n",
       "Mediacom      389.00\n",
       "Microsoft    2589.00\n",
       "Razer        6099.00\n",
       "Samsung      1849.00\n",
       "Toshiba      2799.00\n",
       "Vero          260.00\n",
       "Xiaomi       1399.95\n",
       "Name: Price_euros, dtype: float64"
      ]
     },
     "execution_count": 21,
     "metadata": {},
     "output_type": "execute_result"
    }
   ],
   "source": [
    "price_by_company = laptops.groupby(['Company'])['Price_euros'].max()\n",
    "price_by_company"
   ]
  },
  {
   "cell_type": "markdown",
   "id": "46855d3f-38b0-4435-8ae0-99589397f1b9",
   "metadata": {},
   "source": [
    "## 📊 Data Visualizations"
   ]
  },
  {
   "cell_type": "markdown",
   "id": "ad88c915-c76d-4c88-a3dc-14d1b81fd5ef",
   "metadata": {},
   "source": [
    "Let's make that data easier to digest with a visualization.\n",
    "\n",
    "To do this, we will use <a href=\"https://matplotlib.org/\" target=\"_blank\">Matplotlib</a> which is a versatile Python package for generating diagrams and visualizations.\n",
    "\n",
    "First we need to import matplotlib, and specifically we want the <a href=\"https://matplotlib.org/stable/api/pyplot_summary.html\" target=\"_blank\">matplotlib.pyplot</a> object:"
   ]
  },
  {
   "cell_type": "code",
   "execution_count": 22,
   "id": "b4c4ca66-8815-49c8-ab09-53da2d449aaa",
   "metadata": {
    "tags": []
   },
   "outputs": [],
   "source": [
    "import matplotlib.pyplot as plt"
   ]
  },
  {
   "cell_type": "markdown",
   "id": "8977fc23-4e17-4bac-b34e-084c762e2b77",
   "metadata": {},
   "source": [
    "Now, let's generate a barchart that visualizes our variable `price_by_company` that we computed earlier:"
   ]
  },
  {
   "cell_type": "code",
   "execution_count": 23,
   "id": "a7e65f95-f068-4c51-8055-629ce2a38624",
   "metadata": {
    "tags": []
   },
   "outputs": [
    {
     "data": {
      "image/png": "[encoded data removed]",
      "text/plain": [
       "<Figure size 500x500 with 1 Axes>"
      ]
     },
     "metadata": {},
     "output_type": "display_data"
    }
   ],
   "source": [
    "# Specify how large the matplotlib.pyplot.figure should be width, height -- in inches\n",
    "plt.figure(figsize=(5,5))\n",
    "\n",
    "# DataFrame and Series objects both have a plot method that will use matplotlib by default\n",
    "# We specify the plot method's kind paramater to be 'bar', so that it renders a barchart\n",
    "price_by_company.plot(kind='bar')\n",
    "\n",
    "# Set the figure title, x and y axes with their respective font sizes\n",
    "plt.title('Most Expensive Laptop by Company', fontsize=12)\n",
    "plt.xlabel('Company', fontsize=12)\n",
    "plt.ylabel('Price in Euros', fontsize=12)\n",
    "\n",
    "# Show the figure\n",
    "plt.show()"
   ]
  },
  {
   "cell_type": "markdown",
   "id": "1c22f7b7-d585-4328-9288-df05b887eca6",
   "metadata": {},
   "source": []
  },
  {
   "cell_type": "markdown",
   "id": "5b21a040-33c5-45ff-bd25-292efa386d93",
   "metadata": {},
   "source": [
    "## 🚀 Next Destination: Git Source Control Management\n",
    "Now that we've done some data analysis, let's explore our next topic: [Git Source Control Management](./git.ipynb)."
   ]
  }
 ],
 "metadata": {
  "kernelspec": {
   "display_name": "Python 3 (ipykernel)",
   "language": "python",
   "name": "python3"
  },
  "language_info": {
   "codemirror_mode": {
    "name": "ipython",
    "version": 3
   },
   "file_extension": ".py",
   "mimetype": "text/x-python",
   "name": "python",
   "nbconvert_exporter": "python",
   "pygments_lexer": "ipython3",
   "version": "3.10.9"
  }
 },
 "nbformat": 4,
 "nbformat_minor": 5
}
