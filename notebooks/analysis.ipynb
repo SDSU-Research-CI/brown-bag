{
 "cells": [
  {
   "cell_type": "markdown",
   "id": "e8f9cc16-2824-463d-8e41-79942c102ace",
   "metadata": {},
   "source": [
    "# Data Analysis"
   ]
  },
  {
   "cell_type": "markdown",
   "id": "dcb7eece-baa4-4cef-af7b-5030c38de9b0",
   "metadata": {},
   "source": [
    "## ✔ Mission Objectives\n",
    "After you complete this notebook you will be able to:\n",
    "1. Understand the value of containers for Jupyter Notebooks\n",
    "2. Perform simple data analysis using common python packages\n",
    "3. Create data visualizations using common python packages"
   ]
  },
  {
   "cell_type": "markdown",
   "id": "2863cfd3-6b2b-49e2-b09a-bc3022804837",
   "metadata": {},
   "source": [
    "## 📦 Containers for Jupyter Notebooks"
   ]
  },
  {
   "attachments": {},
   "cell_type": "markdown",
   "id": "2018a43a-5775-419a-9a0f-2d5188df23f7",
   "metadata": {},
   "source": [
    "If you were to run a Jupyter Notebook on your local machine then you would also have to install any packages that you might need. This not only takes time, it also takes disk space on your local machine. If you do a lot of work, or need to install several versions of software in different environments for different projects, then it can really add up.\n",
    "\n",
    "Luckily, with the <a href=\"https://sdsu-research-ci.github.io/instructionalcluster/images\" target=\"_blank\">available container images</a>, we have container images that should have what you need for most data science and machine learning workflows. If you do find that you need to install software in addition to what is already provided, please reach out to Research and Cyberinfrastructure and we can discuss creating a customized image as part of our <a href=\"https://it.sdsu.edu/research/services/software-factory\" target=\"_blank\">Software Factory</a>. Let's see containers in action in the context of Jupyter Notebooks with some simple data analysis."
   ]
  },
  {
   "cell_type": "markdown",
   "id": "53d36f5b-9154-4e30-92ff-b268a9253ec7",
   "metadata": {},
   "source": [
    "## 👩‍🔬👨‍🔬 Data Analysis"
   ]
  },
  {
   "cell_type": "markdown",
   "id": "45419eae-66eb-42fa-a796-dd4e348a3a00",
   "metadata": {},
   "source": [
    "If you've been following along, then you started your notebook with the Stack Datascience image. We can check the python packages that were installed via this container image with `!pip list`:"
   ]
  },
  {
   "cell_type": "code",
   "execution_count": null,
   "id": "902b260e-77bb-4a91-aac8-2c21065a13c0",
   "metadata": {},
   "outputs": [],
   "source": [
    "!pip list"
   ]
  },
  {
   "attachments": {},
   "cell_type": "markdown",
   "id": "c9229ff3-d842-40b5-ba06-835fb20d760b",
   "metadata": {},
   "source": [
    "As you may note, that is quite a few python packages that are ready to go.\n",
    "\n",
    "Now, let's start analyzing some data using <a href=\"https://pandas.pydata.org/\" target=\"_blank\">Pandas</a>, which is a popular data analysis tool. Pandas is especially suited to working with tabular data (rows and columns) with it's <a href=\"https://pandas.pydata.org/docs/reference/api/pandas.DataFrame.html?highlight=dataframe#pandas.DataFrame\" target=\"_blank\">DataFrame</a>\n",
    " object.\n",
    "\n",
    "Let's begin by importing pandas:"
   ]
  },
  {
   "cell_type": "code",
   "execution_count": 2,
   "id": "dcf93b6c-393a-4635-bd4a-cce25f2671f2",
   "metadata": {
    "tags": []
   },
   "outputs": [],
   "source": [
    "import pandas as pd"
   ]
  },
  {
   "attachments": {},
   "cell_type": "markdown",
   "id": "93193e62-fe5b-4058-8e46-334112a5985c",
   "metadata": {},
   "source": [
    "*Note*: If you were to run this notebook locally, then you would first need to ensure that pandas was installed with `!pip show pandas`. If it is not installed, you'd need to run `!pip install pandas`.\n",
    "\n",
    "Since we are using the Stack Datascience container image we can safely skip these steps.\n",
    "\n",
    "We will be using the provided laptops dataset which is available at `./data/laptops.csv`. \n",
    "\n",
    "Let's use pandas to load the data from the csv file into a pandas <a href=\"https://pandas.pydata.org/docs/reference/api/pandas.DataFrame.html?highlight=dataframe#pandas.DataFrame\" target=\"_blank\">DataFrame</a> object:"
   ]
  },
  {
   "cell_type": "code",
   "execution_count": 5,
   "id": "7b06bca9-2d7e-4fcf-80d1-f11492381c1b",
   "metadata": {
    "tags": []
   },
   "outputs": [],
   "source": [
    "laptops = pd.read_csv('./data/laptops.csv', encoding='ISO-8859-1', index_col=0)"
   ]
  },
  {
   "attachments": {},
   "cell_type": "markdown",
   "id": "98d7b002-7d22-4135-bb30-70bead6cbcca",
   "metadata": {},
   "source": [
    "We can quickly get an idea of the data that we're dealing with by using the <a href=\"https://pandas.pydata.org/docs/reference/api/pandas.DataFrame.head.html?highlight=dataframe%20head#pandas.DataFrame.head\" target=\"_blank\">DataFrame.head()</a> method to print out the first few rows of the data:"
   ]
  },
  {
   "cell_type": "code",
   "execution_count": 6,
   "id": "66ec4f6d-6510-4959-8b48-a5cff2b07dd9",
   "metadata": {
    "tags": []
   },
   "outputs": [
    {
     "data": {
      "text/html": [
       "<div>\n",
       "<style scoped>\n",
       "    .dataframe tbody tr th:only-of-type {\n",
       "        vertical-align: middle;\n",
       "    }\n",
       "\n",
       "    .dataframe tbody tr th {\n",
       "        vertical-align: top;\n",
       "    }\n",
       "\n",
       "    .dataframe thead th {\n",
       "        text-align: right;\n",
       "    }\n",
       "</style>\n",
       "<table border=\"1\" class=\"dataframe\">\n",
       "  <thead>\n",
       "    <tr style=\"text-align: right;\">\n",
       "      <th></th>\n",
       "      <th>Company</th>\n",
       "      <th>Product</th>\n",
       "      <th>TypeName</th>\n",
       "      <th>Inches</th>\n",
       "      <th>ScreenResolution</th>\n",
       "      <th>Cpu</th>\n",
       "      <th>Ram</th>\n",
       "      <th>Memory</th>\n",
       "      <th>Gpu</th>\n",
       "      <th>OpSys</th>\n",
       "      <th>Weight</th>\n",
       "      <th>Price_euros</th>\n",
       "    </tr>\n",
       "  </thead>\n",
       "  <tbody>\n",
       "    <tr>\n",
       "      <th>1</th>\n",
       "      <td>Apple</td>\n",
       "      <td>MacBook Pro</td>\n",
       "      <td>Ultrabook</td>\n",
       "      <td>13.3</td>\n",
       "      <td>IPS Panel Retina Display 2560x1600</td>\n",
       "      <td>Intel Core i5 2.3GHz</td>\n",
       "      <td>8GB</td>\n",
       "      <td>128GB SSD</td>\n",
       "      <td>Intel Iris Plus Graphics 640</td>\n",
       "      <td>macOS</td>\n",
       "      <td>1.37kg</td>\n",
       "      <td>1339.69</td>\n",
       "    </tr>\n",
       "    <tr>\n",
       "      <th>2</th>\n",
       "      <td>Apple</td>\n",
       "      <td>Macbook Air</td>\n",
       "      <td>Ultrabook</td>\n",
       "      <td>13.3</td>\n",
       "      <td>1440x900</td>\n",
       "      <td>Intel Core i5 1.8GHz</td>\n",
       "      <td>8GB</td>\n",
       "      <td>128GB Flash Storage</td>\n",
       "      <td>Intel HD Graphics 6000</td>\n",
       "      <td>macOS</td>\n",
       "      <td>1.34kg</td>\n",
       "      <td>898.94</td>\n",
       "    </tr>\n",
       "    <tr>\n",
       "      <th>3</th>\n",
       "      <td>HP</td>\n",
       "      <td>250 G6</td>\n",
       "      <td>Notebook</td>\n",
       "      <td>15.6</td>\n",
       "      <td>Full HD 1920x1080</td>\n",
       "      <td>Intel Core i5 7200U 2.5GHz</td>\n",
       "      <td>8GB</td>\n",
       "      <td>256GB SSD</td>\n",
       "      <td>Intel HD Graphics 620</td>\n",
       "      <td>No OS</td>\n",
       "      <td>1.86kg</td>\n",
       "      <td>575.00</td>\n",
       "    </tr>\n",
       "    <tr>\n",
       "      <th>4</th>\n",
       "      <td>Apple</td>\n",
       "      <td>MacBook Pro</td>\n",
       "      <td>Ultrabook</td>\n",
       "      <td>15.4</td>\n",
       "      <td>IPS Panel Retina Display 2880x1800</td>\n",
       "      <td>Intel Core i7 2.7GHz</td>\n",
       "      <td>16GB</td>\n",
       "      <td>512GB SSD</td>\n",
       "      <td>AMD Radeon Pro 455</td>\n",
       "      <td>macOS</td>\n",
       "      <td>1.83kg</td>\n",
       "      <td>2537.45</td>\n",
       "    </tr>\n",
       "    <tr>\n",
       "      <th>5</th>\n",
       "      <td>Apple</td>\n",
       "      <td>MacBook Pro</td>\n",
       "      <td>Ultrabook</td>\n",
       "      <td>13.3</td>\n",
       "      <td>IPS Panel Retina Display 2560x1600</td>\n",
       "      <td>Intel Core i5 3.1GHz</td>\n",
       "      <td>8GB</td>\n",
       "      <td>256GB SSD</td>\n",
       "      <td>Intel Iris Plus Graphics 650</td>\n",
       "      <td>macOS</td>\n",
       "      <td>1.37kg</td>\n",
       "      <td>1803.60</td>\n",
       "    </tr>\n",
       "  </tbody>\n",
       "</table>\n",
       "</div>"
      ],
      "text/plain": [
       "  Company      Product   TypeName  Inches                    ScreenResolution  \\\n",
       "1   Apple  MacBook Pro  Ultrabook    13.3  IPS Panel Retina Display 2560x1600   \n",
       "2   Apple  Macbook Air  Ultrabook    13.3                            1440x900   \n",
       "3      HP       250 G6   Notebook    15.6                   Full HD 1920x1080   \n",
       "4   Apple  MacBook Pro  Ultrabook    15.4  IPS Panel Retina Display 2880x1800   \n",
       "5   Apple  MacBook Pro  Ultrabook    13.3  IPS Panel Retina Display 2560x1600   \n",
       "\n",
       "                          Cpu   Ram               Memory  \\\n",
       "1        Intel Core i5 2.3GHz   8GB            128GB SSD   \n",
       "2        Intel Core i5 1.8GHz   8GB  128GB Flash Storage   \n",
       "3  Intel Core i5 7200U 2.5GHz   8GB            256GB SSD   \n",
       "4        Intel Core i7 2.7GHz  16GB            512GB SSD   \n",
       "5        Intel Core i5 3.1GHz   8GB            256GB SSD   \n",
       "\n",
       "                            Gpu  OpSys  Weight  Price_euros  \n",
       "1  Intel Iris Plus Graphics 640  macOS  1.37kg      1339.69  \n",
       "2        Intel HD Graphics 6000  macOS  1.34kg       898.94  \n",
       "3         Intel HD Graphics 620  No OS  1.86kg       575.00  \n",
       "4            AMD Radeon Pro 455  macOS  1.83kg      2537.45  \n",
       "5  Intel Iris Plus Graphics 650  macOS  1.37kg      1803.60  "
      ]
     },
     "execution_count": 6,
     "metadata": {},
     "output_type": "execute_result"
    }
   ],
   "source": [
    "laptops.head()"
   ]
  },
  {
   "attachments": {},
   "cell_type": "markdown",
   "id": "3f8b20aa-7208-4c4f-9090-68fea8077fee",
   "metadata": {},
   "source": [
    "To get the total number of rows and columns we have in our dataset we can access the <a href=\"https://pandas.pydata.org/docs/reference/api/pandas.DataFrame.shape.html\" target=\"_blank\">DataFrame.shape</a> property: "
   ]
  },
  {
   "cell_type": "code",
   "execution_count": 8,
   "id": "d0207580-46ff-4815-9289-a956836d170f",
   "metadata": {
    "tags": []
   },
   "outputs": [
    {
     "data": {
      "text/plain": [
       "(1303, 12)"
      ]
     },
     "execution_count": 8,
     "metadata": {},
     "output_type": "execute_result"
    }
   ],
   "source": [
    "laptops.shape"
   ]
  },
  {
   "attachments": {},
   "cell_type": "markdown",
   "id": "dce6cab2-71f6-4466-ba90-535b58361d27",
   "metadata": {},
   "source": [
    "We can interact with each of the columns of the dataset. Each column in the pandas DataFrame is a <a href=\"https://pandas.pydata.org/docs/reference/series.html\" target=\"_blank\">Series</a> object.\n",
    "\n",
    "For instance, if we wanted to see all of the unique companies in the dataset, we could use the <a href=\"https://pandas.pydata.org/docs/reference/api/pandas.Series.unique.html\" target=\"_blank\">Series.unique</a> method:"
   ]
  },
  {
   "cell_type": "code",
   "execution_count": 10,
   "id": "e80553ea-1774-439b-98fe-d145f2fbfeea",
   "metadata": {
    "tags": []
   },
   "outputs": [
    {
     "data": {
      "text/plain": [
       "array(['Apple', 'HP', 'Acer', 'Asus', 'Dell', 'Lenovo', 'Chuwi', 'MSI',\n",
       "       'Microsoft', 'Toshiba', 'Huawei', 'Xiaomi', 'Vero', 'Razer',\n",
       "       'Mediacom', 'Samsung', 'Google', 'Fujitsu', 'LG'], dtype=object)"
      ]
     },
     "execution_count": 10,
     "metadata": {},
     "output_type": "execute_result"
    }
   ],
   "source": [
    "laptops['Company'].unique()"
   ]
  },
  {
   "attachments": {},
   "cell_type": "markdown",
   "id": "45d1c42f-e26e-40a0-a849-2eb6d790044b",
   "metadata": {},
   "source": [
    "We can find the price of the most expensive laptop using the <a href=\"https://pandas.pydata.org/docs/reference/api/pandas.Series.max.html\" target=\"_blank\">Series.max()</a> method on the Price_euros column:"
   ]
  },
  {
   "cell_type": "code",
   "execution_count": 11,
   "id": "89b19e67-fa01-4745-ab64-1736bc849893",
   "metadata": {
    "tags": []
   },
   "outputs": [
    {
     "data": {
      "text/plain": [
       "6099.0"
      ]
     },
     "execution_count": 11,
     "metadata": {},
     "output_type": "execute_result"
    }
   ],
   "source": [
    "laptops['Price_euros'].max()"
   ]
  },
  {
   "cell_type": "markdown",
   "id": "46855d3f-38b0-4435-8ae0-99589397f1b9",
   "metadata": {},
   "source": [
    "## 📊 Data Visualizations"
   ]
  },
  {
   "attachments": {},
   "cell_type": "markdown",
   "id": "ad88c915-c76d-4c88-a3dc-14d1b81fd5ef",
   "metadata": {},
   "source": [
    "<a href=\"https://matplotlib.org/\" target=\"_blank\">Matplotlib</a> is a versatile python package for generating diagrams. Let's use matplotlib to visualize our dataset.\n",
    "\n",
    "First we need to import matplotlib, and specifically we want the <a href=\"https://matplotlib.org/stable/api/pyplot_summary.html\" target=\"_blank\">matplotlib.pyplot</a> object:"
   ]
  },
  {
   "cell_type": "code",
   "execution_count": 12,
   "id": "b4c4ca66-8815-49c8-ab09-53da2d449aaa",
   "metadata": {
    "tags": []
   },
   "outputs": [],
   "source": [
    "import matplotlib.pyplot as plt"
   ]
  },
  {
   "cell_type": "markdown",
   "id": "8977fc23-4e17-4bac-b34e-084c762e2b77",
   "metadata": {},
   "source": [
    "Now, let's generate a barchart that shows the average cost of all laptops made by each company:"
   ]
  },
  {
   "cell_type": "code",
   "execution_count": 13,
   "id": "a7e65f95-f068-4c51-8055-629ce2a38624",
   "metadata": {
    "tags": []
   },
   "outputs": [
    {
     "data": {
      "image/png": "[encoded data removed]",
      "text/plain": [
       "<Figure size 1000x1000 with 1 Axes>"
      ]
     },
     "metadata": {},
     "output_type": "display_data"
    }
   ],
   "source": [
    "plt.figure(figsize=(10,10))\n",
    "\n",
    "laptops['Company'].value_counts().plot(kind='bar')\n",
    "\n",
    "plt.title('Laptops by Company', fontsize=12)\n",
    "plt.xlabel('Company', fontsize=12)\n",
    "plt.ylabel('Frequency', fontsize=12)\n",
    "\n",
    "plt.show()"
   ]
  },
  {
   "cell_type": "markdown",
   "id": "5b21a040-33c5-45ff-bd25-292efa386d93",
   "metadata": {},
   "source": [
    "## 🚀 Next Destination: Git Source Control Management\n",
    "Now that we've done some data analysis, let's explore our next topic: [Git Source Control Management](./git.ipynb)."
   ]
  }
 ],
 "metadata": {
  "kernelspec": {
   "display_name": "Python 3 (ipykernel)",
   "language": "python",
   "name": "python3"
  },
  "language_info": {
   "codemirror_mode": {
    "name": "ipython",
    "version": 3
   },
   "file_extension": ".py",
   "mimetype": "text/x-python",
   "name": "python",
   "nbconvert_exporter": "python",
   "pygments_lexer": "ipython3",
   "version": "3.10.9"
  }
 },
 "nbformat": 4,
 "nbformat_minor": 5
}
