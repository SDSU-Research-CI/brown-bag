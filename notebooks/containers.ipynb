{
 "cells": [
  {
   "cell_type": "markdown",
   "metadata": {
    "tags": []
   },
   "source": [
    "# Containers"
   ]
  },
  {
   "cell_type": "markdown",
   "metadata": {
    "tags": []
   },
   "source": [
    "## ✔ Mission Objectives\n",
    "After you complete this notebook you will be able to:\n",
    "1. Define containers and containerization\n",
    "2. Understand the benefits of containters\n",
    "3. Understand how containers are applied to the Instructional Cluster"
   ]
  },
  {
   "cell_type": "markdown",
   "metadata": {
    "tags": []
   },
   "source": [
    "## 📑 Defining Containers and Containerization"
   ]
  },
  {
   "cell_type": "markdown",
   "metadata": {
    "tags": []
   },
   "source": [
    "At a high-level, containers are packaged software applications containing all of their dependencies like the operating system (OS), file structures, configuration and other code libraries.\n",
    "\n",
    "Containerization is the process of taking a software application and modifying it to run in a container.\n",
    "\n",
    "Containerizing applications allows a container runtime to run multiple containers in parallel without the applications and their dependencies conflicting with one another. \n",
    "\n",
    "A helpful analogy for these concepts is to think of the standard shipping container:\n",
    "\n",
    "![](../images/containers1.jpg)\n",
    "\n",
    "A shipping container has standardized dimensions and can be loaded with various contents. The contents of one container do not affect the contents of another container. These facts allow for trucks, cranes, ships and trains to load, transport and unload containers in a uniform manner. Shipping companies can transport containers from different companies with various products, so long as the products fit into a shipping container."
   ]
  },
  {
   "cell_type": "markdown",
   "metadata": {
    "tags": []
   },
   "source": [
    "## ✨ Benefits of Containers\n",
    "Containers offer many benefits but here we list a few of the most impactful ones: "
   ]
  },
  {
   "cell_type": "markdown",
   "metadata": {
    "tags": []
   },
   "source": [
    "### 1. 🔒 Isolated Runtime Environment\n",
    "Each container runs in its own isolated environment which means that it can run alongside other apps without affecting them. \n",
    "\n",
    "For example, you could have two containerized applications \"A\" and \"B\" that both use the same library \"Lib X.\" However, app A uses Lib X version 1.0 and app B uses version 2.0. If we were running these apps on the same computer without containerizing them we would have to install and configure some sort of environment management to make sure each app has access to the version of Lib X that it needs. Running these in a container frees us from that concern, as each app is packaged up with its own copy and version of Lib X.\n",
    "\n",
    "### 2. 🚛 Portability\n",
    "Because containers are standardized, you can run a container on your laptop and, without modifying it, you can run the same container on the Instructional Cluster or any cloud with a container runtime service.\n",
    "\n",
    "### 3. 🔁 Reproducability\n",
    "Since containers are self-contained, you can easily share a copy of your container and allow others to run it and get the same output. This saves time as you can avoid having to troubleshoot running on different operating systems, having different library versions, using different file layouts, forgetting configuration steps etc."
   ]
  },
  {
   "cell_type": "markdown",
   "metadata": {
    "tags": []
   },
   "source": [
    "## 📝 Applying Containers to the Instructional Cluster JupyterHub"
   ]
  },
  {
   "cell_type": "markdown",
   "metadata": {},
   "source": [
    "The Instructional Cluster [JupyterHub instance](https://sdsu-jupyterhub.nrp-nautilus.io/) uses containers to serve Jupyter Notebooks with popular languages and libraries for data science and machine learning, all pre-configured.\n",
    "\n",
    "Using containers for the Instructional Cluster JupyterHub allows us to reap some of the benefits of containers. Everyone who chooses the same image will have a distinct replica of the same environment -- same permissions, same software & versions, and the same OS. Getting everyone on the same page can often be challening whether in a clasroom, lab or professional setting but, with containers the process just works and it only takes a few minutes.\n",
    "\n",
    "To better understand how containers are applied to the Instructional Cluster, let's dissect the following high-level diagram:"
   ]
  },
  {
   "cell_type": "markdown",
   "metadata": {},
   "source": [
    "![](../images/containers2.png)"
   ]
  },
  {
   "cell_type": "markdown",
   "metadata": {},
   "source": [
    "1. A user will access the JupyterHub instance and request resources and specify a container image.\n",
    "    - Users could be Students, Faculty, Staff and/or Researchers.\n",
    "2. JupyterHub pulls the requested container image.\n",
    "    - Pulling an image is analogous to downloading a file.\n",
    "    - Returning to the shipping container analogy, a container image is similar to a shipping container's manifest which specifies what goes into the container. A container image specifies the OS version, the software, the file structure etc.\n",
    "    - A full list of available container images and the software they contain is available on the [Available Container Images](https://sdsu-research-ci.github.io/instructionalcluster/images) page of the Instructional Cluster site.\n",
    "3. Once the container image has been pulled, JupyterHub spawns a container from the image.\n",
    "    - The container will download and install all of the necessary software and additional files as specified in the corresponding container image.\n",
    "4. Once the container is up and running it serves up a Jupyter Notebook back to the user."
   ]
  },
  {
   "cell_type": "markdown",
   "metadata": {},
   "source": [
    "## 🚀 Next Destination: Data Analysis\n",
    "Now that we know more about containers, let's explore our next topic: [Data Analysis](./analysis.ipynb)."
   ]
  },
  {
   "cell_type": "code",
   "execution_count": null,
   "metadata": {},
   "outputs": [],
   "source": []
  }
 ],
 "metadata": {
  "kernelspec": {
   "display_name": "Python 3 (ipykernel)",
   "language": "python",
   "name": "python3"
  },
  "language_info": {
   "codemirror_mode": {
    "name": "ipython",
    "version": 3
   },
   "file_extension": ".py",
   "mimetype": "text/x-python",
   "name": "python",
   "nbconvert_exporter": "python",
   "pygments_lexer": "ipython3",
   "version": "3.10.9"
  }
 },
 "nbformat": 4,
 "nbformat_minor": 4
}
